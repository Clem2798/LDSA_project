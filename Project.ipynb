{
 "cells": [
  {
   "cell_type": "markdown",
   "metadata": {},
   "source": [
    "### Import libraries and start Spark context"
   ]
  },
  {
   "cell_type": "code",
   "execution_count": 9,
   "metadata": {
    "scrolled": true
   },
   "outputs": [],
   "source": [
    "from operator import add\n",
    "from pyspark import SparkConf, SparkContext\n",
    "from time import time\n",
    "conf = (SparkConf() \n",
    ".setMaster(\"spark://192.168.2.34:7077\")\n",
    ".setAppName(\"test_s3\").set(\"spark.driver.host\", \"192.168.2.34\"))\n",
    "    \n",
    "spark_context = SparkContext(conf = conf)"
   ]
  },
  {
   "cell_type": "markdown",
   "metadata": {},
   "source": [
    "### Preprocess the data to get the list of all nucleotides"
   ]
  },
  {
   "cell_type": "code",
   "execution_count": 10,
   "metadata": {
    "scrolled": true
   },
   "outputs": [],
   "source": [
    "lines = spark_context.textFile(\"hdfs://192.168.2.34:9000/genomeData/chromosome1\")\n",
    "lines_without_headers = lines.filter(lambda line : \">\" not in line)\n",
    "list_of_letters = lines_without_headers.flatMap(lambda line: list(line))"
   ]
  },
  {
   "cell_type": "markdown",
   "metadata": {},
   "source": [
    "### Preprocess data for counting"
   ]
  },
  {
   "cell_type": "code",
   "execution_count": 11,
   "metadata": {},
   "outputs": [
    {
     "data": {
      "text/plain": [
       "[('N', 1), ('N', 1), ('N', 1), ('N', 1), ('N', 1)]"
      ]
     },
     "execution_count": 11,
     "metadata": {},
     "output_type": "execute_result"
    }
   ],
   "source": [
    "list_of_letters_with_values = list_of_letters.map(lambda letter: (letter,1))\n",
    "list_of_letters_with_values.take(5)"
   ]
  },
  {
   "cell_type": "markdown",
   "metadata": {},
   "source": [
    "### Do the reduce operation "
   ]
  },
  {
   "cell_type": "code",
   "execution_count": 12,
   "metadata": {
    "scrolled": true
   },
   "outputs": [
    {
     "data": {
      "text/plain": [
       "[('N', 23970000),\n",
       " ('C', 47024412),\n",
       " ('T', 65668756),\n",
       " ('A', 65570891),\n",
       " ('G', 47016562)]"
      ]
     },
     "execution_count": 12,
     "metadata": {},
     "output_type": "execute_result"
    }
   ],
   "source": [
    "results = list_of_letters_with_values.reduceByKey(add)\n",
    "results.take(5)"
   ]
  },
  {
   "cell_type": "markdown",
   "metadata": {},
   "source": [
    "### Do all in one cell to measure time more easily"
   ]
  },
  {
   "cell_type": "code",
   "execution_count": 13,
   "metadata": {},
   "outputs": [],
   "source": [
    "count = lines.count()"
   ]
  },
  {
   "cell_type": "code",
   "execution_count": 14,
   "metadata": {},
   "outputs": [
    {
     "data": {
      "text/plain": [
       "25.536808013916016"
      ]
     },
     "execution_count": 14,
     "metadata": {},
     "output_type": "execute_result"
    }
   ],
   "source": [
    "lines = spark_context.textFile(\"hdfs://192.168.2.34:9000/genomeData/chromosome1\")\n",
    "count = lines.count()\n",
    "quarter_lines = lines.take(count//4)\n",
    "quarter_lines = spark_context.parallelize(quarter_lines)\n",
    "start = time()\n",
    "results = quarter_lines\\\n",
    "    .filter(lambda line : \">\" not in line)\\\n",
    "    .flatMap(lambda line: list(line))\\\n",
    "    .map(lambda letter: (letter,1))\\\n",
    "    .reduceByKey(add)\n",
    "results.take(5)\n",
    "time() - start"
   ]
  },
  {
   "cell_type": "code",
   "execution_count": 15,
   "metadata": {},
   "outputs": [],
   "source": [
    "spark_context.stop()"
   ]
  },
  {
   "cell_type": "code",
   "execution_count": null,
   "metadata": {},
   "outputs": [],
   "source": []
  }
 ],
 "metadata": {
  "kernelspec": {
   "display_name": "Python 3",
   "language": "python",
   "name": "python3"
  },
  "language_info": {
   "codemirror_mode": {
    "name": "ipython",
    "version": 3
   },
   "file_extension": ".py",
   "mimetype": "text/x-python",
   "name": "python",
   "nbconvert_exporter": "python",
   "pygments_lexer": "ipython3",
   "version": "3.6.9"
  }
 },
 "nbformat": 4,
 "nbformat_minor": 2
}
